{
 "cells": [
  {
   "cell_type": "markdown",
   "metadata": {},
   "source": [
    "# Introduction to Coroutines in Python\n",
    "\n",
    "Sources:\n",
    "* http://www.informit.com/articles/article.aspx?p=2320938\n",
    "* http://stackoverflow.com/questions/9708902/in-practice-what-are-the-main-uses-for-the-new-yield-from-syntax-in-python-3/26109157#26109157"
   ]
  },
  {
   "cell_type": "markdown",
   "metadata": {},
   "source": [
    "## What is a Coroutine?\n",
    "\n",
    "A coroutine is a generalization of a subroutine (or method/function). Contrary to a subroutine, a coroutine can be *suspended* and *resumed* at certain locations."
   ]
  },
  {
   "cell_type": "markdown",
   "metadata": {},
   "source": [
    "## An Introductory Example"
   ]
  },
  {
   "cell_type": "code",
   "execution_count": 2,
   "metadata": {
    "collapsed": true
   },
   "outputs": [],
   "source": [
    "import asyncio"
   ]
  },
  {
   "cell_type": "markdown",
   "metadata": {},
   "source": [
    "For documentation purposes, all coroutines should be decorated with ``@asyncio.coroutine``, but this cannot be strictly enforced.\n",
    "\n",
    "Here's a simple coroutine that counts (prints) to $10$:"
   ]
  },
  {
   "cell_type": "code",
   "execution_count": 3,
   "metadata": {
    "collapsed": true
   },
   "outputs": [],
   "source": [
    "@asyncio.coroutine\n",
    "def counter():\n",
    "    for i in range(10):\n",
    "        print(i)\n",
    "        yield"
   ]
  },
  {
   "cell_type": "code",
   "execution_count": 4,
   "metadata": {
    "collapsed": true
   },
   "outputs": [],
   "source": [
    "coro = counter()"
   ]
  },
  {
   "cell_type": "code",
   "execution_count": 5,
   "metadata": {
    "collapsed": false
   },
   "outputs": [
    {
     "name": "stdout",
     "output_type": "stream",
     "text": [
      "0\n",
      "1\n",
      "2\n"
     ]
    }
   ],
   "source": [
    "next(coro)\n",
    "next(coro)\n",
    "next(coro)"
   ]
  },
  {
   "cell_type": "markdown",
   "metadata": {},
   "source": [
    "Coroutines can also \"return\" and retrieve values:"
   ]
  },
  {
   "cell_type": "code",
   "execution_count": 6,
   "metadata": {
    "collapsed": false
   },
   "outputs": [],
   "source": [
    "@asyncio.coroutine\n",
    "def counter():\n",
    "    for i in range(10):\n",
    "        x = yield i\n",
    "        print(\"x: {}\".format(x))"
   ]
  },
  {
   "cell_type": "code",
   "execution_count": 7,
   "metadata": {
    "collapsed": true
   },
   "outputs": [],
   "source": [
    "coro = counter()"
   ]
  },
  {
   "cell_type": "code",
   "execution_count": 8,
   "metadata": {
    "collapsed": false
   },
   "outputs": [
    {
     "data": {
      "text/plain": [
       "0"
      ]
     },
     "execution_count": 8,
     "metadata": {},
     "output_type": "execute_result"
    }
   ],
   "source": [
    "next(coro)"
   ]
  },
  {
   "cell_type": "code",
   "execution_count": 9,
   "metadata": {
    "collapsed": false
   },
   "outputs": [
    {
     "name": "stdout",
     "output_type": "stream",
     "text": [
      "x: None\n"
     ]
    },
    {
     "data": {
      "text/plain": [
       "1"
      ]
     },
     "execution_count": 9,
     "metadata": {},
     "output_type": "execute_result"
    }
   ],
   "source": [
    "next(coro)"
   ]
  },
  {
   "cell_type": "code",
   "execution_count": 10,
   "metadata": {
    "collapsed": false
   },
   "outputs": [
    {
     "name": "stdout",
     "output_type": "stream",
     "text": [
      "x: bla\n"
     ]
    },
    {
     "data": {
      "text/plain": [
       "2"
      ]
     },
     "execution_count": 10,
     "metadata": {},
     "output_type": "execute_result"
    }
   ],
   "source": [
    "coro.send(\"bla\")"
   ]
  },
  {
   "cell_type": "code",
   "execution_count": 11,
   "metadata": {
    "collapsed": false
   },
   "outputs": [
    {
     "name": "stdout",
     "output_type": "stream",
     "text": [
      "x: None\n"
     ]
    },
    {
     "data": {
      "text/plain": [
       "3"
      ]
     },
     "execution_count": 11,
     "metadata": {},
     "output_type": "execute_result"
    }
   ],
   "source": [
    "next(coro)"
   ]
  },
  {
   "cell_type": "markdown",
   "metadata": {},
   "source": [
    "blaa"
   ]
  },
  {
   "cell_type": "code",
   "execution_count": 12,
   "metadata": {
    "collapsed": false
   },
   "outputs": [],
   "source": [
    "@asyncio.coroutine\n",
    "def match(pattern):\n",
    "    print(\"Looking for: \" + pattern)\n",
    "    try:\n",
    "        while True:\n",
    "            s = yield\n",
    "            if pattern in s:\n",
    "                print(\"found {} in {}\".format(pattern, s))\n",
    "    except GeneratorExit:\n",
    "        print(\"Done\")"
   ]
  },
  {
   "cell_type": "code",
   "execution_count": 13,
   "metadata": {
    "collapsed": false
   },
   "outputs": [
    {
     "name": "stdout",
     "output_type": "stream",
     "text": [
      "Looking for: gugus\n"
     ]
    }
   ],
   "source": [
    "m = match(\"gugus\")\n",
    "m.__next__()  # executes function body until \"yield\" statement"
   ]
  },
  {
   "cell_type": "code",
   "execution_count": 14,
   "metadata": {
    "collapsed": false
   },
   "outputs": [
    {
     "name": "stdout",
     "output_type": "stream",
     "text": [
      "found gugus in blagugus\n"
     ]
    }
   ],
   "source": [
    "m.send(\"blagugus\")  # evaluation continues inside match() until it encounters \"yield\""
   ]
  },
  {
   "cell_type": "code",
   "execution_count": 15,
   "metadata": {
    "collapsed": true
   },
   "outputs": [],
   "source": [
    "m.send(\"asdfsadf\")"
   ]
  },
  {
   "cell_type": "code",
   "execution_count": 16,
   "metadata": {
    "collapsed": false
   },
   "outputs": [
    {
     "name": "stdout",
     "output_type": "stream",
     "text": [
      "found gugus in gugusasdflj\n"
     ]
    }
   ],
   "source": [
    "m.send(\"gugusasdflj\")"
   ]
  },
  {
   "cell_type": "code",
   "execution_count": 17,
   "metadata": {
    "collapsed": false
   },
   "outputs": [
    {
     "name": "stdout",
     "output_type": "stream",
     "text": [
      "Done\n"
     ]
    }
   ],
   "source": [
    "m.close()"
   ]
  },
  {
   "cell_type": "markdown",
   "metadata": {},
   "source": [
    "We can chain functions that ``send()`` and functions that ``yield`` together to obtain complex behaviors."
   ]
  },
  {
   "cell_type": "code",
   "execution_count": 18,
   "metadata": {
    "collapsed": true
   },
   "outputs": [],
   "source": [
    "@asyncio.coroutine\n",
    "def read(text, coroutine):\n",
    "    for word in text.split():\n",
    "        coroutine.send(word)\n",
    "    coroutine.close()"
   ]
  },
  {
   "cell_type": "code",
   "execution_count": 19,
   "metadata": {
    "collapsed": false
   },
   "outputs": [
    {
     "name": "stdout",
     "output_type": "stream",
     "text": [
      "Looking for: ending\n"
     ]
    }
   ],
   "source": [
    "text = \"Commending spending is offending to people pending lending!\"\n",
    "matcher = match(\"ending\")\n",
    "matcher.__next__()"
   ]
  },
  {
   "cell_type": "code",
   "execution_count": 20,
   "metadata": {
    "collapsed": false
   },
   "outputs": [
    {
     "data": {
      "text/plain": [
       "<generator object coro at 0x7f58f41589d8>"
      ]
     },
     "execution_count": 20,
     "metadata": {},
     "output_type": "execute_result"
    }
   ],
   "source": [
    "read(text, matcher)"
   ]
  },
  {
   "cell_type": "markdown",
   "metadata": {},
   "source": [
    "Note that ``match()`` is a \"consumer\" of \"filter\" (``yield``s, but does not ``send()``), while ``read()`` is a \"producer\" (produces data and sends it to another coroutine).\n",
    "A producer or filter can of course have multiple coroutines downstream of it. Here is an example:"
   ]
  },
  {
   "cell_type": "code",
   "execution_count": 21,
   "metadata": {
    "collapsed": true
   },
   "outputs": [],
   "source": [
    "@asyncio.coroutine\n",
    "def read_to_many(text, coroutines):\n",
    "    for word in text.split():\n",
    "        for c in coroutines:\n",
    "            c.send(word)\n",
    "    for c in coroutines:\n",
    "        c.close()"
   ]
  },
  {
   "cell_type": "code",
   "execution_count": 22,
   "metadata": {
    "collapsed": false
   },
   "outputs": [
    {
     "name": "stdout",
     "output_type": "stream",
     "text": [
      "Looking for: mend\n"
     ]
    }
   ],
   "source": [
    "m1 = match(\"mend\")\n",
    "m1.__next__()"
   ]
  },
  {
   "cell_type": "code",
   "execution_count": 23,
   "metadata": {
    "collapsed": false
   },
   "outputs": [
    {
     "name": "stdout",
     "output_type": "stream",
     "text": [
      "Looking for: pe\n"
     ]
    }
   ],
   "source": [
    "m2 = match(\"pe\")\n",
    "m2.__next__()"
   ]
  },
  {
   "cell_type": "code",
   "execution_count": 24,
   "metadata": {
    "collapsed": false
   },
   "outputs": [
    {
     "data": {
      "text/plain": [
       "<generator object coro at 0x7f58f4158b88>"
      ]
     },
     "execution_count": 24,
     "metadata": {},
     "output_type": "execute_result"
    }
   ],
   "source": [
    "read_to_many(text, [m1, m2])"
   ]
  },
  {
   "cell_type": "markdown",
   "metadata": {},
   "source": [
    "## The ``yield from`` syntax"
   ]
  },
  {
   "cell_type": "markdown",
   "metadata": {},
   "source": [
    "Note that ``yield from g`` is **not** equivalent to ``for v in g: yield v``. Think of ``yield from`` as providing a transparent two-way channel from the caller to the sub-coroutine. That includes both getting data from and sending data to the sub-coroutine.\n",
    "\n",
    "Consider the following example:"
   ]
  },
  {
   "cell_type": "code",
   "execution_count": 25,
   "metadata": {
    "collapsed": false
   },
   "outputs": [
    {
     "name": "stdout",
     "output_type": "stream",
     "text": [
      "<< 0\n",
      "<< 1\n",
      "<< 2\n",
      "<< 3\n"
     ]
    }
   ],
   "source": [
    "@asyncio.coroutine\n",
    "def reader():\n",
    "    \"\"\"A generator that fakes a read from a file, socket, etc.\"\"\"\n",
    "    for i in range(4):\n",
    "        yield '<< {}'.format(i)\n",
    "\n",
    "@asyncio.coroutine\n",
    "def reader_wrapper(coro):\n",
    "    \"\"\"Manually iterate over data produced by reader\"\"\"\n",
    "    for v in coro:\n",
    "        yield v\n",
    "\n",
    "wrap = reader_wrapper(reader())\n",
    "for i in wrap:\n",
    "    print(i)"
   ]
  },
  {
   "cell_type": "markdown",
   "metadata": {},
   "source": [
    "We can simplify ``reader_wrapper`` as follows:"
   ]
  },
  {
   "cell_type": "code",
   "execution_count": 26,
   "metadata": {
    "collapsed": false
   },
   "outputs": [
    {
     "name": "stdout",
     "output_type": "stream",
     "text": [
      "<< 0\n",
      "<< 1\n",
      "<< 2\n",
      "<< 3\n"
     ]
    }
   ],
   "source": [
    "@asyncio.coroutine\n",
    "def reader_wrapper(coro):\n",
    "    yield from coro\n",
    "    \n",
    "wrap = reader_wrapper(reader())\n",
    "for i in wrap:\n",
    "    print(i)"
   ]
  },
  {
   "cell_type": "markdown",
   "metadata": {},
   "source": [
    "Now let's create a coroutine that writes data to some file descriptor:"
   ]
  },
  {
   "cell_type": "code",
   "execution_count": 27,
   "metadata": {
    "collapsed": false
   },
   "outputs": [],
   "source": [
    "@asyncio.coroutine\n",
    "def writer():\n",
    "    \"\"\"A coroutine that writes data *sent* to it to fd, socket, etc.\"\"\"\n",
    "    while True:\n",
    "        w = yield\n",
    "        print('>> ', w)"
   ]
  },
  {
   "cell_type": "markdown",
   "metadata": {},
   "source": [
    "A coroutine wrapping ``writer`` could look as follows:"
   ]
  },
  {
   "cell_type": "code",
   "execution_count": 40,
   "metadata": {
    "collapsed": true
   },
   "outputs": [],
   "source": [
    "@asyncio.coroutine\n",
    "def writer_wrapper(coro):\n",
    "    coro.send(None)  # prime the coroutine (run to 1st yield statement)\n",
    "    while True:\n",
    "        try:\n",
    "            x = yield  # Capture the value that's sent\n",
    "            coro.send(x)  # and pass it to the writer\n",
    "        except StopIteration:\n",
    "            pass"
   ]
  },
  {
   "cell_type": "code",
   "execution_count": 41,
   "metadata": {
    "collapsed": false
   },
   "outputs": [
    {
     "name": "stdout",
     "output_type": "stream",
     "text": [
      ">>  0\n",
      ">>  1\n",
      ">>  2\n",
      ">>  3\n"
     ]
    }
   ],
   "source": [
    "w = writer()\n",
    "wrap = writer_wrapper(w)\n",
    "wrap.send(None)  # \"prime\" the coroutine\n",
    "for i in range(4):\n",
    "    wrap.send(i)"
   ]
  },
  {
   "cell_type": "markdown",
   "metadata": {},
   "source": [
    "However, we can simplify ``writer_wrapper`` as follows:"
   ]
  },
  {
   "cell_type": "code",
   "execution_count": 42,
   "metadata": {
    "collapsed": false
   },
   "outputs": [
    {
     "name": "stdout",
     "output_type": "stream",
     "text": [
      ">>  0\n",
      ">>  1\n",
      ">>  2\n",
      ">>  3\n"
     ]
    }
   ],
   "source": [
    "@asyncio.coroutine\n",
    "def writer_wrapper(coro):\n",
    "    yield from coro\n",
    "    \n",
    "w = writer()\n",
    "wrap = writer_wrapper(w)\n",
    "wrap.send(None)  # \"prime\" the coroutine\n",
    "for i in range(4):\n",
    "    wrap.send(i)"
   ]
  },
  {
   "cell_type": "markdown",
   "metadata": {},
   "source": [
    "Let's make it more complicated. What if our writer needs to handle exceptions? Let's say the writer handles a ``SpamException`` and it prints ``***`` if it encounters one."
   ]
  }
 ],
 "metadata": {
  "kernelspec": {
   "display_name": "Python 3",
   "language": "python",
   "name": "python3"
  },
  "language_info": {
   "codemirror_mode": {
    "name": "ipython",
    "version": 3
   },
   "file_extension": ".py",
   "mimetype": "text/x-python",
   "name": "python",
   "nbconvert_exporter": "python",
   "pygments_lexer": "ipython3",
   "version": "3.4.0"
  }
 },
 "nbformat": 4,
 "nbformat_minor": 0
}
