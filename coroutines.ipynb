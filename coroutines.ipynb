{
 "cells": [
  {
   "cell_type": "markdown",
   "metadata": {},
   "source": [
    "# Introduction to Coroutines in Python\n",
    "\n",
    "Sources:\n",
    "* http://www.informit.com/articles/article.aspx?p=2320938\n",
    "* http://stackoverflow.com/questions/9708902/in-practice-what-are-the-main-uses-for-the-new-yield-from-syntax-in-python-3/26109157#26109157"
   ]
  },
  {
   "cell_type": "markdown",
   "metadata": {},
   "source": [
    "## What is a Coroutine?\n",
    "\n",
    "A coroutine is a generalization of a subroutine (or method). In other words: a subroutine is a *special case* of a coroutine. Contrary to a subroutine, a coroutine can be *suspended* and *resumed* (that's what the ``yield`` keyword is for).\n",
    "\n",
    "Coroutines allow us to implement **cooperative** or **non-preemptive multitasking** (as opposed to preemptive multitasking). In cooperative multitasking, the operating system does not *force* a task/process to release the CPU (called a \"context switch\"), instead the tasks *voluntarily* suspend their operation periodically, allowing other tasks to run.\n",
    "\n",
    "Here's an example:"
   ]
  },
  {
   "cell_type": "code",
   "execution_count": 8,
   "metadata": {
    "collapsed": false
   },
   "outputs": [],
   "source": [
    "def my_coroutine():\n",
    "    i = 0\n",
    "    while True:\n",
    "        print(\"hello world: {}\".format(i))\n",
    "        yield  # coroutine stops here until it's resumed\n",
    "        i += 1"
   ]
  },
  {
   "cell_type": "markdown",
   "metadata": {},
   "source": [
    "Let's call ``my_coroutine`` and assign it to a variable:"
   ]
  },
  {
   "cell_type": "code",
   "execution_count": 9,
   "metadata": {
    "collapsed": false
   },
   "outputs": [
    {
     "data": {
      "text/plain": [
       "<generator object my_coroutine at 0x7f3a23ffac18>"
      ]
     },
     "execution_count": 9,
     "metadata": {},
     "output_type": "execute_result"
    }
   ],
   "source": [
    "coro = my_coroutine()\n",
    "coro"
   ]
  },
  {
   "cell_type": "markdown",
   "metadata": {},
   "source": [
    "What we get is a so called \"gererator\" object. In modern Python, \"generator\" is essentially a synonym for \"coroutine\" (the original distinction was that generators can only *produce* data while coroutines can also *consume* it, more on this later).\n",
    "\n",
    "Note that no code inside ``my_coroutine`` has been executed so far (otherwise we would see some output). By calling ``next()`` we can now start the coroutine. It suspends as soon as it hits a ``yield`` keyword:"
   ]
  },
  {
   "cell_type": "code",
   "execution_count": 10,
   "metadata": {
    "collapsed": false
   },
   "outputs": [
    {
     "name": "stdout",
     "output_type": "stream",
     "text": [
      "hello world: 0\n"
     ]
    }
   ],
   "source": [
    "next(coro)"
   ]
  },
  {
   "cell_type": "markdown",
   "metadata": {},
   "source": [
    "By executing another ``next()`` we can make it advance until it hits ``yield`` (you can think of ``yield`` as a \"breakpoint\"):"
   ]
  },
  {
   "cell_type": "code",
   "execution_count": 11,
   "metadata": {
    "collapsed": false
   },
   "outputs": [
    {
     "name": "stdout",
     "output_type": "stream",
     "text": [
      "hello world: 1\n"
     ]
    }
   ],
   "source": [
    "next(coro)"
   ]
  },
  {
   "cell_type": "markdown",
   "metadata": {},
   "source": [
    "Does it ever run out? No, you can call ``next()`` as often as you want:"
   ]
  },
  {
   "cell_type": "code",
   "execution_count": 12,
   "metadata": {
    "collapsed": false
   },
   "outputs": [
    {
     "name": "stdout",
     "output_type": "stream",
     "text": [
      "hello world: 2\n",
      "hello world: 3\n"
     ]
    }
   ],
   "source": [
    "next(coro)\n",
    "next(coro)"
   ]
  },
  {
   "cell_type": "markdown",
   "metadata": {},
   "source": [
    "## Coroutines Can Produce Data"
   ]
  },
  {
   "cell_type": "markdown",
   "metadata": {},
   "source": [
    "The introductory \"hello world\" example is not very useful in that it does neither consume nor produce/return any data (it only ``print``s data on the screen). Let's first look at a coroutine that produces some data (we say it ``yield``s data). The statement ``yield x`` not only suspends a coroutine, but also sends an object ``x`` back to the caller (which may be another coroutine or a \"normal\" context).\n",
    "\n",
    "For example, coroutines can be used to implement infinite lists. In fact, the following coroutine does not create an infinite list of natural numbers in memory (which is impossible), but *enumerates* all natural numbers:"
   ]
  },
  {
   "cell_type": "code",
   "execution_count": 18,
   "metadata": {
    "collapsed": true
   },
   "outputs": [],
   "source": [
    "def natural_numbers():\n",
    "    i = 0\n",
    "    while True:\n",
    "        yield i  # send i back to caller\n",
    "        i += 1"
   ]
  },
  {
   "cell_type": "markdown",
   "metadata": {},
   "source": [
    "Note that – instead of calling ``next()`` – we can iterate through a coroutine object in the same way we would iterate through a list:"
   ]
  },
  {
   "cell_type": "code",
   "execution_count": 20,
   "metadata": {
    "collapsed": false
   },
   "outputs": [
    {
     "name": "stdout",
     "output_type": "stream",
     "text": [
      "0\n",
      "1\n",
      "2\n",
      "3\n",
      "4\n",
      "5\n",
      "6\n",
      "7\n",
      "8\n",
      "9\n",
      "10\n",
      "11\n"
     ]
    }
   ],
   "source": [
    "naturals = natural_numbers()\n",
    "for i in naturals:\n",
    "    print(i)\n",
    "    if i > 10:  # exit condition to avoid infinite loop\n",
    "        break"
   ]
  },
  {
   "cell_type": "markdown",
   "metadata": {},
   "source": [
    "## Coroutines Can Consume Data"
   ]
  },
  {
   "cell_type": "markdown",
   "metadata": {},
   "source": [
    "Coroutines can not only ``yield``/produce data, but data can also be sent to them using the ``send()`` method:"
   ]
  },
  {
   "cell_type": "code",
   "execution_count": 77,
   "metadata": {
    "collapsed": false
   },
   "outputs": [],
   "source": [
    "def test():\n",
    "    while True:\n",
    "        x = yield\n",
    "        print(\"hello {}\".format(x))"
   ]
  },
  {
   "cell_type": "code",
   "execution_count": 78,
   "metadata": {
    "collapsed": true
   },
   "outputs": [],
   "source": [
    "coro = test()"
   ]
  },
  {
   "cell_type": "markdown",
   "metadata": {},
   "source": [
    "Before we can ``send`` any data, we have to advance the coroutine to the first ``yield`` statement (also called *priming* the coroutine):"
   ]
  },
  {
   "cell_type": "code",
   "execution_count": 79,
   "metadata": {
    "collapsed": false
   },
   "outputs": [],
   "source": [
    "next(coro)"
   ]
  },
  {
   "cell_type": "markdown",
   "metadata": {},
   "source": [
    "Now we can send it some object. Calling ``send()`` will also iterate the coroutine (as does ``next()``):"
   ]
  },
  {
   "cell_type": "code",
   "execution_count": 80,
   "metadata": {
    "collapsed": false
   },
   "outputs": [
    {
     "name": "stdout",
     "output_type": "stream",
     "text": [
      "hello foo\n",
      "hello bar\n"
     ]
    }
   ],
   "source": [
    "coro.send(\"foo\")\n",
    "coro.send(\"bar\")"
   ]
  },
  {
   "cell_type": "markdown",
   "metadata": {},
   "source": [
    "If we iterate over it without sending data, ``x`` will simply be ``None``:"
   ]
  },
  {
   "cell_type": "code",
   "execution_count": 81,
   "metadata": {
    "collapsed": false
   },
   "outputs": [
    {
     "name": "stdout",
     "output_type": "stream",
     "text": [
      "hello None\n"
     ]
    }
   ],
   "source": [
    "next(coro)"
   ]
  },
  {
   "cell_type": "markdown",
   "metadata": {},
   "source": [
    "Now let's create a more useful coroutine. Let's implement a coroutine that ``yield``s the minimum value it's been sent so far (example taken from [here](http://www.informit.com/articles/article.aspx?p=2320938))."
   ]
  },
  {
   "cell_type": "code",
   "execution_count": 82,
   "metadata": {
    "collapsed": true
   },
   "outputs": [],
   "source": [
    "def minimize():\n",
    "    current = yield\n",
    "    while True:\n",
    "        value = yield current\n",
    "        current = min(value, current)"
   ]
  },
  {
   "cell_type": "code",
   "execution_count": 83,
   "metadata": {
    "collapsed": true
   },
   "outputs": [],
   "source": [
    "coro = minimize()\n",
    "next(coro)"
   ]
  },
  {
   "cell_type": "code",
   "execution_count": 84,
   "metadata": {
    "collapsed": false
   },
   "outputs": [
    {
     "data": {
      "text/plain": [
       "4"
      ]
     },
     "execution_count": 84,
     "metadata": {},
     "output_type": "execute_result"
    }
   ],
   "source": [
    "coro.send(4)"
   ]
  },
  {
   "cell_type": "code",
   "execution_count": 85,
   "metadata": {
    "collapsed": false
   },
   "outputs": [
    {
     "data": {
      "text/plain": [
       "4"
      ]
     },
     "execution_count": 85,
     "metadata": {},
     "output_type": "execute_result"
    }
   ],
   "source": [
    "coro.send(5)"
   ]
  },
  {
   "cell_type": "code",
   "execution_count": 86,
   "metadata": {
    "collapsed": false
   },
   "outputs": [
    {
     "data": {
      "text/plain": [
       "-2"
      ]
     },
     "execution_count": 86,
     "metadata": {},
     "output_type": "execute_result"
    }
   ],
   "source": [
    "coro.send(-2)"
   ]
  },
  {
   "cell_type": "markdown",
   "metadata": {},
   "source": [
    "## Coroutines versus Threads/Processes\n",
    "\n",
    "Like threads, coroutines are independent functions that can consume input from their environment and produce resulting outputs. The difference is that coroutines pause at each ``yield`` expression and resume after each call to ``send()`` or ``next()`` from the outside. This is the magical mechanism of coroutines.\n",
    "\n",
    "This behavior allows the code calling the coroutine to take action after each ``yield`` expression in the coroutine. The consuming code can use the generator's output values to call other functions and update data structures. Most importantly, it can advance other coroutines. By advancing many separate coroutines in lockstep, they will all seem to be running simultaneously, mimicking the concurrent behavior of threads.\n",
    "\n",
    "Coroutines have the following advantages over threads:\n",
    "* Coroutines are single-threaded. That means, no synchronization is needed to prevent race conditions, dead locks, etc.\n",
    "* Threads use a lot more memory and are relatively expensive to start\n",
    "\n",
    "Disadvantages:\n",
    "* TODO"
   ]
  },
  {
   "cell_type": "markdown",
   "metadata": {},
   "source": [
    "## Another example"
   ]
  },
  {
   "cell_type": "code",
   "execution_count": null,
   "metadata": {
    "collapsed": false
   },
   "outputs": [],
   "source": [
    "@asyncio.coroutine\n",
    "def match(pattern):\n",
    "    print(\"Looking for: \" + pattern)\n",
    "    try:\n",
    "        while True:\n",
    "            s = yield\n",
    "            if pattern in s:\n",
    "                print(\"found {} in {}\".format(pattern, s))\n",
    "    except GeneratorExit:\n",
    "        print(\"Done\")"
   ]
  },
  {
   "cell_type": "code",
   "execution_count": null,
   "metadata": {
    "collapsed": false
   },
   "outputs": [],
   "source": [
    "m = match(\"gugus\")\n",
    "m.__next__()  # executes function body until \"yield\" statement"
   ]
  },
  {
   "cell_type": "code",
   "execution_count": null,
   "metadata": {
    "collapsed": false
   },
   "outputs": [],
   "source": [
    "m.send(\"blagugus\")  # evaluation continues inside match() until it encounters \"yield\""
   ]
  },
  {
   "cell_type": "code",
   "execution_count": null,
   "metadata": {
    "collapsed": true
   },
   "outputs": [],
   "source": [
    "m.send(\"asdfsadf\")"
   ]
  },
  {
   "cell_type": "code",
   "execution_count": null,
   "metadata": {
    "collapsed": false
   },
   "outputs": [],
   "source": [
    "m.send(\"gugusasdflj\")"
   ]
  },
  {
   "cell_type": "code",
   "execution_count": null,
   "metadata": {
    "collapsed": false
   },
   "outputs": [],
   "source": [
    "m.close()"
   ]
  },
  {
   "cell_type": "markdown",
   "metadata": {},
   "source": [
    "We can chain functions that ``send()`` and functions that ``yield`` together to obtain complex behaviors."
   ]
  },
  {
   "cell_type": "code",
   "execution_count": null,
   "metadata": {
    "collapsed": true
   },
   "outputs": [],
   "source": [
    "@asyncio.coroutine\n",
    "def read(text, coroutine):\n",
    "    for word in text.split():\n",
    "        coroutine.send(word)\n",
    "    coroutine.close()"
   ]
  },
  {
   "cell_type": "code",
   "execution_count": null,
   "metadata": {
    "collapsed": false
   },
   "outputs": [],
   "source": [
    "text = \"Commending spending is offending to people pending lending!\"\n",
    "matcher = match(\"ending\")\n",
    "matcher.__next__()"
   ]
  },
  {
   "cell_type": "code",
   "execution_count": null,
   "metadata": {
    "collapsed": false
   },
   "outputs": [],
   "source": [
    "read(text, matcher)"
   ]
  },
  {
   "cell_type": "markdown",
   "metadata": {},
   "source": [
    "Note that ``match()`` is a \"consumer\" of \"filter\" (``yield``s, but does not ``send()``), while ``read()`` is a \"producer\" (produces data and sends it to another coroutine).\n",
    "A producer or filter can of course have multiple coroutines downstream of it. Here is an example:"
   ]
  },
  {
   "cell_type": "code",
   "execution_count": null,
   "metadata": {
    "collapsed": true
   },
   "outputs": [],
   "source": [
    "@asyncio.coroutine\n",
    "def read_to_many(text, coroutines):\n",
    "    for word in text.split():\n",
    "        for c in coroutines:\n",
    "            c.send(word)\n",
    "    for c in coroutines:\n",
    "        c.close()"
   ]
  },
  {
   "cell_type": "code",
   "execution_count": null,
   "metadata": {
    "collapsed": false
   },
   "outputs": [],
   "source": [
    "m1 = match(\"mend\")\n",
    "m1.__next__()"
   ]
  },
  {
   "cell_type": "code",
   "execution_count": null,
   "metadata": {
    "collapsed": false
   },
   "outputs": [],
   "source": [
    "m2 = match(\"pe\")\n",
    "m2.__next__()"
   ]
  },
  {
   "cell_type": "code",
   "execution_count": null,
   "metadata": {
    "collapsed": false
   },
   "outputs": [],
   "source": [
    "read_to_many(text, [m1, m2])"
   ]
  },
  {
   "cell_type": "markdown",
   "metadata": {},
   "source": [
    "## Coroutines and the ``asyncio`` Framework\n",
    "\n",
    "For documentation purposes, all coroutines should be decorated with ``@asyncio.coroutine``.\n",
    "\n",
    "TODO"
   ]
  },
  {
   "cell_type": "markdown",
   "metadata": {},
   "source": [
    "## The ``yield from`` syntax"
   ]
  },
  {
   "cell_type": "markdown",
   "metadata": {},
   "source": [
    "Note that ``yield from g`` is **not** equivalent to ``for v in g: yield v``. Think of ``yield from`` as providing a transparent two-way channel from the caller to the sub-coroutine. That includes both getting data from and sending data to the sub-coroutine.\n",
    "\n",
    "Consider the following example:"
   ]
  },
  {
   "cell_type": "code",
   "execution_count": null,
   "metadata": {
    "collapsed": false
   },
   "outputs": [],
   "source": [
    "@asyncio.coroutine\n",
    "def reader():\n",
    "    \"\"\"A generator that fakes a read from a file, socket, etc.\"\"\"\n",
    "    for i in range(4):\n",
    "        yield '<< {}'.format(i)\n",
    "\n",
    "@asyncio.coroutine\n",
    "def reader_wrapper(coro):\n",
    "    \"\"\"Manually iterate over data produced by reader\"\"\"\n",
    "    for v in coro:\n",
    "        yield v\n",
    "\n",
    "wrap = reader_wrapper(reader())\n",
    "for i in wrap:\n",
    "    print(i)"
   ]
  },
  {
   "cell_type": "markdown",
   "metadata": {},
   "source": [
    "We can simplify ``reader_wrapper`` as follows:"
   ]
  },
  {
   "cell_type": "code",
   "execution_count": null,
   "metadata": {
    "collapsed": false
   },
   "outputs": [],
   "source": [
    "@asyncio.coroutine\n",
    "def reader_wrapper(coro):\n",
    "    yield from coro\n",
    "    \n",
    "wrap = reader_wrapper(reader())\n",
    "for i in wrap:\n",
    "    print(i)"
   ]
  },
  {
   "cell_type": "markdown",
   "metadata": {},
   "source": [
    "Now let's create a coroutine that writes data to some file descriptor:"
   ]
  },
  {
   "cell_type": "code",
   "execution_count": null,
   "metadata": {
    "collapsed": false
   },
   "outputs": [],
   "source": [
    "@asyncio.coroutine\n",
    "def writer():\n",
    "    \"\"\"A coroutine that writes data *sent* to it to fd, socket, etc.\"\"\"\n",
    "    while True:\n",
    "        w = yield\n",
    "        print('>> ', w)"
   ]
  },
  {
   "cell_type": "markdown",
   "metadata": {},
   "source": [
    "A coroutine wrapping ``writer`` could look as follows:"
   ]
  },
  {
   "cell_type": "code",
   "execution_count": null,
   "metadata": {
    "collapsed": true
   },
   "outputs": [],
   "source": [
    "@asyncio.coroutine\n",
    "def writer_wrapper(coro):\n",
    "    coro.send(None)  # prime the coroutine (run to 1st yield statement)\n",
    "    while True:\n",
    "        try:\n",
    "            x = yield  # Capture the value that's sent\n",
    "            coro.send(x)  # and pass it to the writer\n",
    "        except StopIteration:\n",
    "            pass"
   ]
  },
  {
   "cell_type": "code",
   "execution_count": null,
   "metadata": {
    "collapsed": false
   },
   "outputs": [],
   "source": [
    "w = writer()\n",
    "wrap = writer_wrapper(w)\n",
    "wrap.send(None)  # \"prime\" the coroutine\n",
    "for i in range(4):\n",
    "    wrap.send(i)"
   ]
  },
  {
   "cell_type": "markdown",
   "metadata": {},
   "source": [
    "However, we can simplify ``writer_wrapper`` as follows:"
   ]
  },
  {
   "cell_type": "code",
   "execution_count": null,
   "metadata": {
    "collapsed": false
   },
   "outputs": [],
   "source": [
    "@asyncio.coroutine\n",
    "def writer_wrapper(coro):\n",
    "    yield from coro\n",
    "    \n",
    "w = writer()\n",
    "wrap = writer_wrapper(w)\n",
    "wrap.send(None)  # \"prime\" the coroutine\n",
    "for i in range(4):\n",
    "    wrap.send(i)"
   ]
  },
  {
   "cell_type": "markdown",
   "metadata": {},
   "source": [
    "Let's make it more complicated. What if our writer needs to handle exceptions? Let's say the writer handles a ``SpamException`` and it prints ``***`` if it encounters one."
   ]
  }
 ],
 "metadata": {
  "kernelspec": {
   "display_name": "Python 3",
   "language": "python",
   "name": "python3"
  },
  "language_info": {
   "codemirror_mode": {
    "name": "ipython",
    "version": 3
   },
   "file_extension": ".py",
   "mimetype": "text/x-python",
   "name": "python",
   "nbconvert_exporter": "python",
   "pygments_lexer": "ipython3",
   "version": "3.4.0"
  }
 },
 "nbformat": 4,
 "nbformat_minor": 0
}
